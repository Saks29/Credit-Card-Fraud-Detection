{
 "cells": [
  {
   "cell_type": "markdown",
   "id": "ae9254bb-532e-4296-8bbe-5badb7b04fcb",
   "metadata": {},
   "source": [
    "## Importing Dependencies"
   ]
  },
  {
   "cell_type": "code",
   "execution_count": 1,
   "id": "163fe775-62a3-4ac4-ae27-bdd2624e68da",
   "metadata": {},
   "outputs": [],
   "source": [
    "#data processing modules\n",
    "import pandas as pd\n",
    "import numpy as np\n",
    "import matplotlib.pyplot as plt\n",
    "import seaborn as sns"
   ]
  },
  {
   "cell_type": "markdown",
   "id": "438e9409-9978-46fb-a3f3-803b16e7bbd2",
   "metadata": {},
   "source": [
    "## Loading The Data"
   ]
  },
  {
   "cell_type": "code",
   "execution_count": 2,
   "id": "ef36b255-3ea1-4415-8525-6f822e23e23b",
   "metadata": {},
   "outputs": [
    {
     "name": "stderr",
     "output_type": "stream",
     "text": [
      "<>:1: SyntaxWarning: invalid escape sequence '\\D'\n",
      "<>:1: SyntaxWarning: invalid escape sequence '\\D'\n",
      "C:\\Users\\saksh\\AppData\\Local\\Temp\\ipykernel_10372\\4088044759.py:1: SyntaxWarning: invalid escape sequence '\\D'\n",
      "  df=pd.read_csv(\"C:\\Datasets\\dataset.csv\")\n"
     ]
    },
    {
     "name": "stdout",
     "output_type": "stream",
     "text": [
      "No of rows in the dataset --> 284807\n",
      "No of columns in the dataset --> 31\n"
     ]
    }
   ],
   "source": [
    "df=pd.read_csv(\"C:\\Datasets\\dataset.csv\")\n",
    "print(f\"No of rows in the dataset --> {df.shape[0]}\")\n",
    "print(f\"No of columns in the dataset --> {df.shape[1]}\")\n"
   ]
  },
  {
   "cell_type": "code",
   "execution_count": 3,
   "id": "6e2b98d9-b407-4a6b-af5e-83cefa2a54ce",
   "metadata": {},
   "outputs": [
    {
     "data": {
      "text/html": [
       "<div>\n",
       "<style scoped>\n",
       "    .dataframe tbody tr th:only-of-type {\n",
       "        vertical-align: middle;\n",
       "    }\n",
       "\n",
       "    .dataframe tbody tr th {\n",
       "        vertical-align: top;\n",
       "    }\n",
       "\n",
       "    .dataframe thead th {\n",
       "        text-align: right;\n",
       "    }\n",
       "</style>\n",
       "<table border=\"1\" class=\"dataframe\">\n",
       "  <thead>\n",
       "    <tr style=\"text-align: right;\">\n",
       "      <th></th>\n",
       "      <th>Time</th>\n",
       "      <th>V1</th>\n",
       "      <th>V2</th>\n",
       "      <th>V3</th>\n",
       "      <th>V4</th>\n",
       "      <th>V5</th>\n",
       "      <th>V6</th>\n",
       "      <th>V7</th>\n",
       "      <th>V8</th>\n",
       "      <th>V9</th>\n",
       "      <th>...</th>\n",
       "      <th>V21</th>\n",
       "      <th>V22</th>\n",
       "      <th>V23</th>\n",
       "      <th>V24</th>\n",
       "      <th>V25</th>\n",
       "      <th>V26</th>\n",
       "      <th>V27</th>\n",
       "      <th>V28</th>\n",
       "      <th>Amount</th>\n",
       "      <th>Class</th>\n",
       "    </tr>\n",
       "  </thead>\n",
       "  <tbody>\n",
       "    <tr>\n",
       "      <th>0</th>\n",
       "      <td>0.0</td>\n",
       "      <td>-1.359807</td>\n",
       "      <td>-0.072781</td>\n",
       "      <td>2.536347</td>\n",
       "      <td>1.378155</td>\n",
       "      <td>-0.338321</td>\n",
       "      <td>0.462388</td>\n",
       "      <td>0.239599</td>\n",
       "      <td>0.098698</td>\n",
       "      <td>0.363787</td>\n",
       "      <td>...</td>\n",
       "      <td>-0.018307</td>\n",
       "      <td>0.277838</td>\n",
       "      <td>-0.110474</td>\n",
       "      <td>0.066928</td>\n",
       "      <td>0.128539</td>\n",
       "      <td>-0.189115</td>\n",
       "      <td>0.133558</td>\n",
       "      <td>-0.021053</td>\n",
       "      <td>149.62</td>\n",
       "      <td>0</td>\n",
       "    </tr>\n",
       "    <tr>\n",
       "      <th>1</th>\n",
       "      <td>0.0</td>\n",
       "      <td>1.191857</td>\n",
       "      <td>0.266151</td>\n",
       "      <td>0.166480</td>\n",
       "      <td>0.448154</td>\n",
       "      <td>0.060018</td>\n",
       "      <td>-0.082361</td>\n",
       "      <td>-0.078803</td>\n",
       "      <td>0.085102</td>\n",
       "      <td>-0.255425</td>\n",
       "      <td>...</td>\n",
       "      <td>-0.225775</td>\n",
       "      <td>-0.638672</td>\n",
       "      <td>0.101288</td>\n",
       "      <td>-0.339846</td>\n",
       "      <td>0.167170</td>\n",
       "      <td>0.125895</td>\n",
       "      <td>-0.008983</td>\n",
       "      <td>0.014724</td>\n",
       "      <td>2.69</td>\n",
       "      <td>0</td>\n",
       "    </tr>\n",
       "    <tr>\n",
       "      <th>2</th>\n",
       "      <td>1.0</td>\n",
       "      <td>-1.358354</td>\n",
       "      <td>-1.340163</td>\n",
       "      <td>1.773209</td>\n",
       "      <td>0.379780</td>\n",
       "      <td>-0.503198</td>\n",
       "      <td>1.800499</td>\n",
       "      <td>0.791461</td>\n",
       "      <td>0.247676</td>\n",
       "      <td>-1.514654</td>\n",
       "      <td>...</td>\n",
       "      <td>0.247998</td>\n",
       "      <td>0.771679</td>\n",
       "      <td>0.909412</td>\n",
       "      <td>-0.689281</td>\n",
       "      <td>-0.327642</td>\n",
       "      <td>-0.139097</td>\n",
       "      <td>-0.055353</td>\n",
       "      <td>-0.059752</td>\n",
       "      <td>378.66</td>\n",
       "      <td>0</td>\n",
       "    </tr>\n",
       "    <tr>\n",
       "      <th>3</th>\n",
       "      <td>1.0</td>\n",
       "      <td>-0.966272</td>\n",
       "      <td>-0.185226</td>\n",
       "      <td>1.792993</td>\n",
       "      <td>-0.863291</td>\n",
       "      <td>-0.010309</td>\n",
       "      <td>1.247203</td>\n",
       "      <td>0.237609</td>\n",
       "      <td>0.377436</td>\n",
       "      <td>-1.387024</td>\n",
       "      <td>...</td>\n",
       "      <td>-0.108300</td>\n",
       "      <td>0.005274</td>\n",
       "      <td>-0.190321</td>\n",
       "      <td>-1.175575</td>\n",
       "      <td>0.647376</td>\n",
       "      <td>-0.221929</td>\n",
       "      <td>0.062723</td>\n",
       "      <td>0.061458</td>\n",
       "      <td>123.50</td>\n",
       "      <td>0</td>\n",
       "    </tr>\n",
       "    <tr>\n",
       "      <th>4</th>\n",
       "      <td>2.0</td>\n",
       "      <td>-1.158233</td>\n",
       "      <td>0.877737</td>\n",
       "      <td>1.548718</td>\n",
       "      <td>0.403034</td>\n",
       "      <td>-0.407193</td>\n",
       "      <td>0.095921</td>\n",
       "      <td>0.592941</td>\n",
       "      <td>-0.270533</td>\n",
       "      <td>0.817739</td>\n",
       "      <td>...</td>\n",
       "      <td>-0.009431</td>\n",
       "      <td>0.798278</td>\n",
       "      <td>-0.137458</td>\n",
       "      <td>0.141267</td>\n",
       "      <td>-0.206010</td>\n",
       "      <td>0.502292</td>\n",
       "      <td>0.219422</td>\n",
       "      <td>0.215153</td>\n",
       "      <td>69.99</td>\n",
       "      <td>0</td>\n",
       "    </tr>\n",
       "  </tbody>\n",
       "</table>\n",
       "<p>5 rows × 31 columns</p>\n",
       "</div>"
      ],
      "text/plain": [
       "   Time        V1        V2        V3        V4        V5        V6        V7  \\\n",
       "0   0.0 -1.359807 -0.072781  2.536347  1.378155 -0.338321  0.462388  0.239599   \n",
       "1   0.0  1.191857  0.266151  0.166480  0.448154  0.060018 -0.082361 -0.078803   \n",
       "2   1.0 -1.358354 -1.340163  1.773209  0.379780 -0.503198  1.800499  0.791461   \n",
       "3   1.0 -0.966272 -0.185226  1.792993 -0.863291 -0.010309  1.247203  0.237609   \n",
       "4   2.0 -1.158233  0.877737  1.548718  0.403034 -0.407193  0.095921  0.592941   \n",
       "\n",
       "         V8        V9  ...       V21       V22       V23       V24       V25  \\\n",
       "0  0.098698  0.363787  ... -0.018307  0.277838 -0.110474  0.066928  0.128539   \n",
       "1  0.085102 -0.255425  ... -0.225775 -0.638672  0.101288 -0.339846  0.167170   \n",
       "2  0.247676 -1.514654  ...  0.247998  0.771679  0.909412 -0.689281 -0.327642   \n",
       "3  0.377436 -1.387024  ... -0.108300  0.005274 -0.190321 -1.175575  0.647376   \n",
       "4 -0.270533  0.817739  ... -0.009431  0.798278 -0.137458  0.141267 -0.206010   \n",
       "\n",
       "        V26       V27       V28  Amount  Class  \n",
       "0 -0.189115  0.133558 -0.021053  149.62      0  \n",
       "1  0.125895 -0.008983  0.014724    2.69      0  \n",
       "2 -0.139097 -0.055353 -0.059752  378.66      0  \n",
       "3 -0.221929  0.062723  0.061458  123.50      0  \n",
       "4  0.502292  0.219422  0.215153   69.99      0  \n",
       "\n",
       "[5 rows x 31 columns]"
      ]
     },
     "execution_count": 3,
     "metadata": {},
     "output_type": "execute_result"
    }
   ],
   "source": [
    "df.head(n=5)"
   ]
  },
  {
   "cell_type": "markdown",
   "id": "58fa86ea-3bfe-4a9c-a975-d733258ec9d6",
   "metadata": {},
   "source": [
    "## Checking Columns"
   ]
  },
  {
   "cell_type": "code",
   "execution_count": 4,
   "id": "5beb5805-6bf4-40e9-a60b-c648ddaebdb4",
   "metadata": {
    "jupyter": {
     "source_hidden": true
    }
   },
   "outputs": [
    {
     "name": "stdout",
     "output_type": "stream",
     "text": [
      "the name of the columns in the dataset are : \n"
     ]
    },
    {
     "data": {
      "text/plain": [
       "Index(['Time', 'V1', 'V2', 'V3', 'V4', 'V5', 'V6', 'V7', 'V8', 'V9', 'V10',\n",
       "       'V11', 'V12', 'V13', 'V14', 'V15', 'V16', 'V17', 'V18', 'V19', 'V20',\n",
       "       'V21', 'V22', 'V23', 'V24', 'V25', 'V26', 'V27', 'V28', 'Amount',\n",
       "       'Class'],\n",
       "      dtype='object')"
      ]
     },
     "execution_count": 4,
     "metadata": {},
     "output_type": "execute_result"
    }
   ],
   "source": [
    "print(\"the name of the columns in the dataset are : \")\n",
    "df.columns"
   ]
  },
  {
   "cell_type": "markdown",
   "id": "0ab939c0-3d40-48c7-b84a-5b4bd2959074",
   "metadata": {},
   "source": [
    "## Dropping Non-required Columns"
   ]
  },
  {
   "cell_type": "code",
   "execution_count": 5,
   "id": "f659370d-57ef-4629-94e8-3c64c219606b",
   "metadata": {},
   "outputs": [],
   "source": [
    "df.drop([\"Time\"],axis =1,inplace=True)"
   ]
  },
  {
   "cell_type": "code",
   "execution_count": 6,
   "id": "84189f02-9d8e-487f-b421-cb940094f34e",
   "metadata": {},
   "outputs": [
    {
     "data": {
      "text/plain": [
       "V1        float64\n",
       "V2        float64\n",
       "V3        float64\n",
       "V4        float64\n",
       "V5        float64\n",
       "V6        float64\n",
       "V7        float64\n",
       "V8        float64\n",
       "V9        float64\n",
       "V10       float64\n",
       "V11       float64\n",
       "V12       float64\n",
       "V13       float64\n",
       "V14       float64\n",
       "V15       float64\n",
       "V16       float64\n",
       "V17       float64\n",
       "V18       float64\n",
       "V19       float64\n",
       "V20       float64\n",
       "V21       float64\n",
       "V22       float64\n",
       "V23       float64\n",
       "V24       float64\n",
       "V25       float64\n",
       "V26       float64\n",
       "V27       float64\n",
       "V28       float64\n",
       "Amount    float64\n",
       "Class       int64\n",
       "dtype: object"
      ]
     },
     "execution_count": 6,
     "metadata": {},
     "output_type": "execute_result"
    }
   ],
   "source": [
    "df.dtypes"
   ]
  },
  {
   "cell_type": "markdown",
   "id": "93aefb05-91f5-4ff1-8a8e-0e18a731d436",
   "metadata": {},
   "source": [
    "## Checking For Null Values "
   ]
  },
  {
   "cell_type": "code",
   "execution_count": 7,
   "id": "c455f67a-595a-4fea-8dee-6d283655c665",
   "metadata": {
    "jupyter": {
     "source_hidden": true
    }
   },
   "outputs": [
    {
     "data": {
      "text/plain": [
       "V1        0\n",
       "V2        0\n",
       "V3        0\n",
       "V4        0\n",
       "V5        0\n",
       "V6        0\n",
       "V7        0\n",
       "V8        0\n",
       "V9        0\n",
       "V10       0\n",
       "V11       0\n",
       "V12       0\n",
       "V13       0\n",
       "V14       0\n",
       "V15       0\n",
       "V16       0\n",
       "V17       0\n",
       "V18       0\n",
       "V19       0\n",
       "V20       0\n",
       "V21       0\n",
       "V22       0\n",
       "V23       0\n",
       "V24       0\n",
       "V25       0\n",
       "V26       0\n",
       "V27       0\n",
       "V28       0\n",
       "Amount    0\n",
       "Class     0\n",
       "dtype: int64"
      ]
     },
     "execution_count": 7,
     "metadata": {},
     "output_type": "execute_result"
    }
   ],
   "source": [
    "df.isna().sum()"
   ]
  },
  {
   "cell_type": "markdown",
   "id": "44956c43-369f-434f-8e0c-d07fce9f676a",
   "metadata": {},
   "source": [
    "### Reducing the sample of 'True Transactions' to its half for balancing the data"
   ]
  },
  {
   "cell_type": "code",
   "execution_count": 8,
   "id": "a9e8dba4-5f0c-4f49-8baf-c6b9f87ab71e",
   "metadata": {
    "jupyter": {
     "source_hidden": true
    }
   },
   "outputs": [
    {
     "data": {
      "text/plain": [
       "(142650, 30)"
      ]
     },
     "execution_count": 8,
     "metadata": {},
     "output_type": "execute_result"
    }
   ],
   "source": [
    "df_fraud = df[df.Class==1]\n",
    "df_true = df[df.Class==0]\n",
    "df_true = df_true.sample(frac = 0.5)\n",
    "data = pd.concat([df_true , df_fraud])\n",
    "data = data.reset_index(drop = True)\n",
    "data.shape"
   ]
  },
  {
   "cell_type": "markdown",
   "id": "40d494e7-dd5d-4852-916b-2f04f22ca4f5",
   "metadata": {},
   "source": [
    "## Checking For Data Types"
   ]
  },
  {
   "cell_type": "code",
   "execution_count": 9,
   "id": "0ef1f369-07b3-48f0-ad8a-6bc8a9cb74b9",
   "metadata": {
    "jupyter": {
     "source_hidden": true
    }
   },
   "outputs": [
    {
     "data": {
      "text/plain": [
       "count    142650.000000\n",
       "mean         88.554036\n",
       "std         259.481921\n",
       "min           0.000000\n",
       "25%           5.550000\n",
       "50%          21.980000\n",
       "75%          77.007500\n",
       "max       25691.160000\n",
       "Name: Amount, dtype: float64"
      ]
     },
     "execution_count": 9,
     "metadata": {},
     "output_type": "execute_result"
    }
   ],
   "source": [
    "data['Amount'].describe()"
   ]
  },
  {
   "cell_type": "markdown",
   "id": "93a584b4-2b93-4f7b-b850-09588570f1a3",
   "metadata": {},
   "source": [
    "# Exploratory Data Analysis"
   ]
  },
  {
   "cell_type": "code",
   "execution_count": 10,
   "id": "dc4a797c-3232-4d3f-a91b-3dd2ea0e7a9e",
   "metadata": {
    "jupyter": {
     "source_hidden": true
    }
   },
   "outputs": [
    {
     "data": {
      "image/png": "[encoded data removed]",
      "text/plain": [
       "<Figure size 800x500 with 1 Axes>"
      ]
     },
     "metadata": {},
     "output_type": "display_data"
    }
   ],
   "source": [
    "with plt.style.context(('ggplot')):\n",
    "    plt.figure(figsize = (8,5))\n",
    "    plt.title(\"Distribution of classes\")\n",
    "    plt.plot(data[\"Amount\"])\n",
    "    plt.show()"
   ]
  },
  {
   "cell_type": "code",
   "execution_count": 11,
   "id": "a84a81e9-fa3a-4a90-8597-f627918205c3",
   "metadata": {
    "jupyter": {
     "source_hidden": true
    }
   },
   "outputs": [
    {
     "data": {
      "image/png": "[encoded data removed]",
      "text/plain": [
       "<Figure size 500x800 with 1 Axes>"
      ]
     },
     "metadata": {},
     "output_type": "display_data"
    }
   ],
   "source": [
    "with plt.style.context(('ggplot')):\n",
    "    plt.figure(figsize=(5,8))\n",
    "    plt.title(\" Distribution of fraud(1) and Non-fraud(0) transactions\")\n",
    "    sns.countplot(data = data , x = data[\"Class\"])\n",
    "    plt.show()"
   ]
  },
  {
   "cell_type": "code",
   "execution_count": 12,
   "id": "8e10b423-79c1-4160-9aac-2a326f888b40",
   "metadata": {
    "jupyter": {
     "source_hidden": true
    }
   },
   "outputs": [
    {
     "name": "stdout",
     "output_type": "stream",
     "text": [
      "the percentage of Fraudalent Transactions is 0.17%\n"
     ]
    }
   ],
   "source": [
    "fraud_per = round((len(df[df.Class==1])/len(df[df.Class==0]))*100,2)\n",
    "print(f\"the percentage of Fraudalent Transactions is {fraud_per}%\")"
   ]
  },
  {
   "cell_type": "code",
   "execution_count": 13,
   "id": "c9a60718-2361-4254-9bd0-8f705b9d7fc2",
   "metadata": {
    "jupyter": {
     "source_hidden": true
    }
   },
   "outputs": [],
   "source": [
    "from sklearn.preprocessing import StandardScaler\n",
    "sc = StandardScaler()\n",
    "data.Amount=sc.fit_transform(data.Amount.values.reshape(-1,1))"
   ]
  },
  {
   "cell_type": "code",
   "execution_count": 14,
   "id": "cd7a4a26-bf26-4eeb-b46a-78e1df273255",
   "metadata": {
    "jupyter": {
     "source_hidden": true
    }
   },
   "outputs": [
    {
     "data": {
      "text/plain": [
       "0        -0.174055\n",
       "1         0.379550\n",
       "2        -0.279805\n",
       "3         3.987213\n",
       "4        -0.248974\n",
       "            ...   \n",
       "142645    1.161726\n",
       "142646   -0.338345\n",
       "142647   -0.041098\n",
       "142648    0.602919\n",
       "142649   -0.177370\n",
       "Name: Amount, Length: 142650, dtype: float64"
      ]
     },
     "execution_count": 14,
     "metadata": {},
     "output_type": "execute_result"
    }
   ],
   "source": [
    "data.Amount"
   ]
  },
  {
   "cell_type": "markdown",
   "id": "28e8e524-60a8-4559-b40d-ce9d5ecebeed",
   "metadata": {},
   "source": [
    "## Dropping Duplicates "
   ]
  },
  {
   "cell_type": "code",
   "execution_count": 15,
   "id": "48c826f0-73ab-4dcd-b16d-69c179f15363",
   "metadata": {
    "jupyter": {
     "source_hidden": true
    }
   },
   "outputs": [],
   "source": [
    "data.drop_duplicates(inplace=True)"
   ]
  },
  {
   "cell_type": "code",
   "execution_count": 16,
   "id": "aa9d9095-a192-4d31-b05e-62e57492c6bb",
   "metadata": {},
   "outputs": [
    {
     "data": {
      "text/plain": [
       "(139581, 30)"
      ]
     },
     "execution_count": 16,
     "metadata": {},
     "output_type": "execute_result"
    }
   ],
   "source": [
    "data.shape"
   ]
  },
  {
   "cell_type": "markdown",
   "id": "0cf044f6-a7bf-481f-9330-fd0804cf0d5a",
   "metadata": {},
   "source": [
    "# MODELING"
   ]
  },
  {
   "cell_type": "markdown",
   "id": "aa740491-523a-4416-89ac-2e2ff838a233",
   "metadata": {},
   "source": [
    "## Spliting the dataset"
   ]
  },
  {
   "cell_type": "code",
   "execution_count": 17,
   "id": "4772e638-e07f-4de1-a927-e205af31c0c5",
   "metadata": {},
   "outputs": [],
   "source": [
    "from sklearn.model_selection import train_test_split\n",
    "x=data.drop([\"Class\"],axis=1)\n",
    "y=data[\"Class\"]\n",
    "x_train,x_test,y_train,y_test = train_test_split(x,y,train_size=0.8)"
   ]
  },
  {
   "cell_type": "markdown",
   "id": "e6954b34-584e-415f-8bde-87d075cb2367",
   "metadata": {},
   "source": [
    "## Logistic Regression and its Accuracy"
   ]
  },
  {
   "cell_type": "code",
   "execution_count": 18,
   "id": "d513e0ad-5e85-4380-b970-d3ba9f6bb67c",
   "metadata": {},
   "outputs": [
    {
     "name": "stdout",
     "output_type": "stream",
     "text": [
      "The accuracy of this model is 99.85%\n"
     ]
    }
   ],
   "source": [
    "from sklearn.linear_model import LogisticRegression\n",
    "model_log = LogisticRegression()\n",
    "model_log.fit(x_train ,y_train)\n",
    "y_pred_log = model_log.predict(x_test)\n",
    "print(f\"The accuracy of this model is {round(model_log.score(x_test,y_test)*100,2)}%\")\n"
   ]
  },
  {
   "cell_type": "markdown",
   "id": "8bd1388e-0a4c-49dc-804b-75b5f44f94fa",
   "metadata": {},
   "source": [
    "## F-1 Score of Logistic Regression & Confusion Matrix"
   ]
  },
  {
   "cell_type": "code",
   "execution_count": 19,
   "id": "9a90c3d0-6505-48ee-92a8-d624509558fc",
   "metadata": {},
   "outputs": [
    {
     "name": "stdout",
     "output_type": "stream",
     "text": [
      "F1-Score of this model is 0.77\n"
     ]
    },
    {
     "data": {
      "image/png": "[encoded data removed]",
      "text/plain": [
       "<Figure size 640x480 with 2 Axes>"
      ]
     },
     "metadata": {},
     "output_type": "display_data"
    }
   ],
   "source": [
    "from sklearn.metrics import f1_score,confusion_matrix,accuracy_score,precision_score,recall_score,classification_report\n",
    "print(f\"F1-Score of this model is {round(f1_score(y_test , y_pred_log),2)}\")\n",
    "with plt.style.context(('ggplot')):\n",
    "    sns.heatmap(confusion_matrix(y_test,y_pred_log),annot = True)\n",
    "    plt.show()"
   ]
  },
  {
   "cell_type": "markdown",
   "id": "c96d2194-4df3-4177-bc7c-311666412bdc",
   "metadata": {},
   "source": [
    "## Random Forest and its Accuracy"
   ]
  },
  {
   "cell_type": "code",
   "execution_count": 20,
   "id": "f746f183-6efe-48c7-a1cc-7d025acd9df1",
   "metadata": {},
   "outputs": [
    {
     "name": "stdout",
     "output_type": "stream",
     "text": [
      "the accuracy of this model is 99.91%\n"
     ]
    }
   ],
   "source": [
    "from sklearn.ensemble import RandomForestClassifier\n",
    "model = RandomForestClassifier()\n",
    "model.fit(x_train,y_train)\n",
    "y_pred_random = model.predict(x_test)\n",
    "print(f\"the accuracy of this model is {round(model.score(x_test,y_test)*100,2)}%\")"
   ]
  },
  {
   "cell_type": "markdown",
   "id": "7904f6b4-a7e9-4585-bd16-10cb485ec710",
   "metadata": {},
   "source": [
    "## Applying Genetic Selection with Logistic Regression to find its Accuracy"
   ]
  },
  {
   "cell_type": "code",
   "execution_count": 21,
   "id": "e988021d-5e27-4d2c-b9c0-632069b9ace2",
   "metadata": {},
   "outputs": [
    {
     "name": "stdout",
     "output_type": "stream",
     "text": [
      "Requirement already satisfied: sklearn-genetic in c:\\users\\saksh\\anaconda3\\lib\\site-packages (0.6.0)\n",
      "Requirement already satisfied: scikit-learn>=1.0 in c:\\users\\saksh\\anaconda3\\lib\\site-packages (from sklearn-genetic) (1.5.1)\n",
      "Requirement already satisfied: deap>=1.0.2 in c:\\users\\saksh\\anaconda3\\lib\\site-packages (from sklearn-genetic) (1.4.3)\n",
      "Requirement already satisfied: numpy in c:\\users\\saksh\\anaconda3\\lib\\site-packages (from sklearn-genetic) (1.26.4)\n",
      "Requirement already satisfied: multiprocess in c:\\users\\saksh\\anaconda3\\lib\\site-packages (from sklearn-genetic) (0.70.18)\n",
      "Requirement already satisfied: scipy>=1.6.0 in c:\\users\\saksh\\anaconda3\\lib\\site-packages (from scikit-learn>=1.0->sklearn-genetic) (1.13.1)\n",
      "Requirement already satisfied: joblib>=1.2.0 in c:\\users\\saksh\\anaconda3\\lib\\site-packages (from scikit-learn>=1.0->sklearn-genetic) (1.4.2)\n",
      "Requirement already satisfied: threadpoolctl>=3.1.0 in c:\\users\\saksh\\anaconda3\\lib\\site-packages (from scikit-learn>=1.0->sklearn-genetic) (3.5.0)\n",
      "Requirement already satisfied: dill>=0.4.0 in c:\\users\\saksh\\anaconda3\\lib\\site-packages (from multiprocess->sklearn-genetic) (0.4.0)\n"
     ]
    },
    {
     "name": "stderr",
     "output_type": "stream",
     "text": [
      "C:\\Users\\saksh\\anaconda3\\Lib\\site-packages\\sklearn\\base.py:486: UserWarning: X has feature names, but GeneticSelectionCV was fitted without feature names\n",
      "  warnings.warn(\n"
     ]
    }
   ],
   "source": [
    "! pip install sklearn-genetic\n",
    "from genetic_selection import GeneticSelectionCV\n",
    "estimator_log = LogisticRegression()\n",
    "model_ga_log = GeneticSelectionCV(estimator = estimator_log,cv=5,scoring='accuracy',max_features=6,n_population=60,n_gen_no_change=5)\n",
    "model_ga_log.fit(x_train , y_train)\n",
    "y_log_ga = model_ga_log.predict(x_test)"
   ]
  },
  {
   "cell_type": "code",
   "execution_count": 22,
   "id": "0e2423e6-efde-419e-a489-4fd0812bca6f",
   "metadata": {},
   "outputs": [
    {
     "name": "stdout",
     "output_type": "stream",
     "text": [
      "the accuracy of this model is 99.84%\n"
     ]
    },
    {
     "name": "stderr",
     "output_type": "stream",
     "text": [
      "C:\\Users\\saksh\\anaconda3\\Lib\\site-packages\\sklearn\\base.py:486: UserWarning: X has feature names, but GeneticSelectionCV was fitted without feature names\n",
      "  warnings.warn(\n"
     ]
    }
   ],
   "source": [
    "print(f\"the accuracy of this model is {round(model_ga_log.score(x_test , y_test)*100,2)}%\")"
   ]
  },
  {
   "cell_type": "markdown",
   "id": "43b5187f-bbb0-40e9-bbb5-11ad50a87df4",
   "metadata": {},
   "source": [
    "## XGBoost Classifier and its Accuraacy"
   ]
  },
  {
   "cell_type": "code",
   "execution_count": 23,
   "id": "3013487d-40b9-48fe-94db-a0508c931dfd",
   "metadata": {},
   "outputs": [
    {
     "name": "stdout",
     "output_type": "stream",
     "text": [
      "Requirement already satisfied: xgboost in c:\\users\\saksh\\anaconda3\\lib\\site-packages (3.0.2)\n",
      "Requirement already satisfied: numpy in c:\\users\\saksh\\anaconda3\\lib\\site-packages (from xgboost) (1.26.4)\n",
      "Requirement already satisfied: scipy in c:\\users\\saksh\\anaconda3\\lib\\site-packages (from xgboost) (1.13.1)\n"
     ]
    }
   ],
   "source": [
    "! pip install xgboost\n",
    "from xgboost import XGBClassifier\n",
    "model_xgb = XGBClassifier(max_depth=2)\n",
    "model_xgb.fit(x_train,y_train)\n",
    "y_pred_xgb = model_xgb.predict(x_test)"
   ]
  },
  {
   "cell_type": "code",
   "execution_count": 24,
   "id": "0941b92e-1078-469e-ae4f-337b366a08ca",
   "metadata": {},
   "outputs": [
    {
     "name": "stdout",
     "output_type": "stream",
     "text": [
      "the accuracy of this model is99.91%\n"
     ]
    }
   ],
   "source": [
    "print(f\"the accuracy of this model is{round(model_xgb.score(x_test,y_test)*100,2)}%\")"
   ]
  },
  {
   "cell_type": "code",
   "execution_count": 25,
   "id": "c8022789-59f8-4dba-9eb1-9303d3d65377",
   "metadata": {},
   "outputs": [
    {
     "name": "stdout",
     "output_type": "stream",
     "text": [
      "F1-Score of this model is 0.88\n"
     ]
    }
   ],
   "source": [
    "print(f\"F1-Score of this model is {round(f1_score(y_test , y_pred_xgb),2)}\")"
   ]
  },
  {
   "cell_type": "markdown",
   "id": "ad31c8ec-2d01-4e28-8701-95af6ee3de97",
   "metadata": {},
   "source": [
    "## Finding best model to predict Fraud using ROC and AUC Curve"
   ]
  },
  {
   "cell_type": "code",
   "execution_count": 26,
   "id": "8b3ac382-d46b-4ba4-9aa3-2e084793177a",
   "metadata": {},
   "outputs": [],
   "source": [
    "from sklearn import metrics\n",
    "from sklearn.metrics import roc_curve,roc_auc_score"
   ]
  },
  {
   "cell_type": "code",
   "execution_count": 27,
   "id": "28c8ba27-7aa2-4b21-8bc7-519131ca7d0e",
   "metadata": {},
   "outputs": [
    {
     "data": {
      "image/png": "[encoded data removed]",
      "text/plain": [
       "<Figure size 1000x700 with 1 Axes>"
      ]
     },
     "metadata": {},
     "output_type": "display_data"
    }
   ],
   "source": [
    "#XGBoost\n",
    "fpr_xgb , tpr_xgb ,_ = metrics.roc_curve(y_test,y_pred_xgb)\n",
    "auc_xgb = metrics.roc_auc_score(y_test , y_pred_xgb)\n",
    "#Logistic regression\n",
    "fpr_log , tpr_log ,_ = metrics.roc_curve(y_test,y_pred_log)\n",
    "auc_log = metrics.roc_auc_score(y_test , y_pred_log)\n",
    "#Random Forest\n",
    "fpr_ran , tpr_ran ,_ = metrics.roc_curve(y_test,y_pred_random)\n",
    "auc_ran = metrics.roc_auc_score(y_test , y_pred_random)\n",
    "#Genetic + Logistic\n",
    "fpr_log_ga , tpr_log_ga ,_ = metrics.roc_curve(y_test,y_log_ga)\n",
    "auc_log_ga = metrics.roc_auc_score(y_test , y_log_ga)\n",
    "\n",
    "with plt.style.context(('ggplot')):\n",
    "    plt.figure(figsize=(10,7))\n",
    "    plt.title(\"ROC Curve\")\n",
    "    plt.plot(fpr_xgb,tpr_xgb,label=\"AUC_XGB=\"+str(auc_xgb))\n",
    "    plt.plot(fpr_log,tpr_log,label=\"AUC_logistic_regression=\"+str(auc_log))\n",
    "    plt.plot(fpr_ran,tpr_ran,label=\"AUC_random_forest=\"+str(auc_ran))\n",
    "    plt.plot(fpr_log_ga,tpr_log_ga,label=\"AUC_genetic_logistic=\"+str(auc_log_ga))\n",
    "    plt.ylabel('True Positive Rate')\n",
    "    plt.xlabel('False Positive Rate')\n",
    "    plt.legend(loc=4)\n",
    "    plt.show()\n",
    "    "
   ]
  },
  {
   "cell_type": "markdown",
   "id": "fe6eeb76-8c1c-4552-80c8-3e243dcde395",
   "metadata": {},
   "source": [
    "## Making Prediction Using Most Accurate Model(XGBoost)"
   ]
  },
  {
   "cell_type": "code",
   "execution_count": 28,
   "id": "b19d85f0-eca8-415d-a06d-37fb3a642a12",
   "metadata": {},
   "outputs": [
    {
     "name": "stdout",
     "output_type": "stream",
     "text": [
      "Accuracy:- 99.91%\n",
      "Precision:- 97.28%\n",
      "Recall:- 90.73%\n",
      "Classification report:-               precision    recall  f1-score   support\n",
      "\n",
      "           0       1.00      1.00      1.00     27809\n",
      "           1       0.95      0.81      0.88       108\n",
      "\n",
      "    accuracy                           1.00     27917\n",
      "   macro avg       0.97      0.91      0.94     27917\n",
      "weighted avg       1.00      1.00      1.00     27917\n",
      "\n"
     ]
    }
   ],
   "source": [
    "y_pred = model_xgb.predict(x_test)\n",
    "\n",
    "# Display the evaluation results\n",
    "print(f\"Accuracy:- {round(accuracy_score(y_test, y_pred)*100,2)}%\")\n",
    "print(f\"Precision:- {round(precision_score(y_test, y_pred, average='macro', zero_division=0)*100,2)}%\")\n",
    "print(f\"Recall:- {round(recall_score(y_test, y_pred, average='macro', zero_division=0)*100,2)}%\")\n",
    "print(f\"Classification report:- {classification_report(y_test, y_pred)}\")"
   ]
  },
  {
   "cell_type": "code",
   "execution_count": null,
   "id": "e324b553-603c-42c0-85dc-5ac161f19e0e",
   "metadata": {},
   "outputs": [],
   "source": []
  }
 ],
 "metadata": {
  "kernelspec": {
   "display_name": "Python 3 (ipykernel)",
   "language": "python",
   "name": "python3"
  },
  "language_info": {
   "codemirror_mode": {
    "name": "ipython",
    "version": 3
   },
   "file_extension": ".py",
   "mimetype": "text/x-python",
   "name": "python",
   "nbconvert_exporter": "python",
   "pygments_lexer": "ipython3",
   "version": "3.12.7"
  }
 },
 "nbformat": 4,
 "nbformat_minor": 5
}
